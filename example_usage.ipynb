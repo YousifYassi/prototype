{
  "cells": [
    {
      "cell_type": "markdown",
      "metadata": {},
      "source": [
        "# Unsafe Action Detection - Example Usage\n",
        "\n",
        "This notebook demonstrates how to use the unsafe action detection system.\n"
      ]
    },
    {
      "cell_type": "markdown",
      "metadata": {},
      "source": [
        "## 1. Setup and Imports\n"
      ]
    },
    {
      "cell_type": "code",
      "execution_count": null,
      "metadata": {},
      "outputs": [],
      "source": [
        "import torch\n",
        "import yaml\n",
        "import cv2\n",
        "import numpy as np\n",
        "from pathlib import Path\n",
        "\n",
        "print(f\"PyTorch version: {torch.__version__}\")\n",
        "print(f\"CUDA available: {torch.cuda.is_available()}\")\n"
      ]
    },
    {
      "cell_type": "markdown",
      "metadata": {},
      "source": [
        "## 2. Load Configuration and Create Model\n"
      ]
    },
    {
      "cell_type": "code",
      "execution_count": null,
      "metadata": {},
      "outputs": [],
      "source": [
        "# Load config\n",
        "with open('config.yaml', 'r') as f:\n",
        "    config = yaml.safe_load(f)\n",
        "\n",
        "print(\"Configuration loaded:\")\n",
        "print(f\"  Model: {config['model']['architecture']}\")\n",
        "print(f\"  Backbone: {config['model']['backbone']}\")\n",
        "print(f\"  Unsafe actions: {config['unsafe_actions']}\")\n"
      ]
    },
    {
      "cell_type": "markdown",
      "metadata": {},
      "source": [
        "## 3. Quick Start Guide\n",
        "\n",
        "To get started:\n",
        "\n",
        "1. **Install dependencies**: `pip install -r requirements.txt`\n",
        "2. **Prepare data**: `python prepare_data.py`\n",
        "3. **Train model**: `python train.py`\n",
        "4. **Run inference**: `python inference.py --model checkpoints/best_model.pth --source 10`\n",
        "\n",
        "For detailed instructions, see `QUICKSTART.md` and `README.md`\n"
      ]
    }
  ],
  "metadata": {
    "language_info": {
      "name": "python"
    }
  },
  "nbformat": 4,
  "nbformat_minor": 2
}
